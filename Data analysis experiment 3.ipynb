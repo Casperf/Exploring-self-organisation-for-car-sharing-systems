{
 "cells": [
  {
   "cell_type": "code",
   "execution_count": 1,
   "metadata": {},
   "outputs": [],
   "source": [
    "%matplotlib inline\n",
    "import pandas as pd\n",
    "import numpy as np\n",
    "import seaborn as sns\n",
    "import matplotlib.pyplot as plt\n",
    "from mpl_toolkits.mplot3d import Axes3D\n",
    "plt.style.use('ggplot')\n",
    "\n",
    "\n",
    "from SALib.sample import saltelli\n",
    "from SALib.analyze import sobol\n",
    "\n",
    "import scipy \n",
    "from scipy.stats import ttest_ind"
   ]
  },
  {
   "cell_type": "code",
   "execution_count": 2,
   "metadata": {},
   "outputs": [],
   "source": [
    "df = pd.read_csv('/Users/casper/Documents/TU Della/Thesis/Finals Docs/Experiments/tables/Final model experiment 3 table-table.csv', skiprows=6 ) \n",
    "\n"
   ]
  },
  {
   "cell_type": "code",
   "execution_count": 3,
   "metadata": {},
   "outputs": [
    {
     "name": "stdout",
     "output_type": "stream",
     "text": [
      "<class 'pandas.core.frame.DataFrame'>\n",
      "RangeIndex: 10000100 entries, 0 to 10000099\n",
      "Data columns (total 49 columns):\n",
      " #   Column                                          Dtype  \n",
      "---  ------                                          -----  \n",
      " 0   [run number]                                    int64  \n",
      " 1   walking-radius                                  int64  \n",
      " 2   prob-of-violating-rules                         int64  \n",
      " 3   new-car-treshold                                float64\n",
      " 4   number-of-cars-company0                         int64  \n",
      " 5   graduated-sanctions                             bool   \n",
      " 6   car-sharing-demand                              int64  \n",
      " 7   number-of-companies                             int64  \n",
      " 8   collective-choice-arrangement                   bool   \n",
      " 9   One-company                                     bool   \n",
      " 10  number-of-cars-company1                         int64  \n",
      " 11  sanctioning-multiple                            int64  \n",
      " 12  speed                                           int64  \n",
      " 13  number-of-cars-company2                         int64  \n",
      " 14  prob-of-sanctioning                             int64  \n",
      " 15  starting-bottom-price                           int64  \n",
      " 16  [step]                                          int64  \n",
      " 17  [ satisfied-users ] of company 0                int64  \n",
      " 18  [ unsatisfied-users ] of company 0              int64  \n",
      " 19  [ satisfied-users ] of company 1                int64  \n",
      " 20  [ unsatisfied-users ] of company 1              int64  \n",
      " 21  [ satisfied-users ] of company 2                int64  \n",
      " 22  [ unsatisfied-users ] of company 2              int64  \n",
      " 23  [ company-rules-violated ] of company 0         int64  \n",
      " 24  [ company-rules-violated ] of company 1         int64  \n",
      " 25  [ company-rules-violated ] of company 2         int64  \n",
      " 26  [ company-sanctioned ] of company 0             int64  \n",
      " 27  [ company-sanctioned ] of company 1             int64  \n",
      " 28  [ company-sanctioned ] of company 2             int64  \n",
      " 29  [ vote ] of company 0                           int64  \n",
      " 30  [ vote ] of company 1                           int64  \n",
      " 31  [ vote ] of company 2                           int64  \n",
      " 32  [ company-price ] of company 0                  float64\n",
      " 33  [ company-price ] of company 1                  float64\n",
      " 34  [ company-price ] of company 2                  float64\n",
      " 35  [ profit ] of company 0                         float64\n",
      " 36  [ profit ] of company 1                         float64\n",
      " 37  [ profit ] of company 2                         float64\n",
      " 38  count cars with [ ( company-id = company 0 ) ]  int64  \n",
      " 39  count cars with [ ( company-id = company 1 ) ]  int64  \n",
      " 40  count cars with [ ( company-id = company 2 ) ]  int64  \n",
      " 41  count users                                     int64  \n",
      " 42  market-price                                    float64\n",
      " 43  bottom-price                                    float64\n",
      " 44  count cars with [ available = true ]            int64  \n",
      " 45  count patches with [ empty = true ]             int64  \n",
      " 46  [ no-parking ] of company 0                     int64  \n",
      " 47  [ no-parking ] of company 1                     int64  \n",
      " 48  [ no-parking ] of company 2                     int64  \n",
      "dtypes: bool(3), float64(9), int64(37)\n",
      "memory usage: 3.5 GB\n"
     ]
    }
   ],
   "source": [
    "df.info()"
   ]
  },
  {
   "cell_type": "code",
   "execution_count": 4,
   "metadata": {},
   "outputs": [],
   "source": [
    "df.rename(columns={'[run number]':'run number','[step]':'tick', '[ satisfied-users ] of company 0':'satisfied company 0',  '[ satisfied-users ] of company 1':'satisfied company 1', '[ satisfied-users ] of company 2': 'satisfied company 2', '[ unsatisfied-users ] of company 0':'unsatisfied company 0',  '[ unsatisfied-users ] of company 1':'unsatisfied company 1', '[ unsatisfied-users ] of company 2': 'unsatisfied company 2', 'count cars with [ ( company-id = company 0 ) ]': 'cars company 0', 'count cars with [ ( company-id = company 1 ) ]': 'cars company 1', 'count cars with [ ( company-id = company 2 ) ]': 'cars company 2'  }, inplace= True) \n",
    "df ['total satisfied users'] = df['satisfied company 0'] + df['satisfied company 1'] + df['satisfied company 2'] \n",
    "df ['total unsatisfied users'] = df['unsatisfied company 0'] + df['unsatisfied company 1'] + df['unsatisfied company 2'] \n",
    "df ['total no parking found'] = df['[ no-parking ] of company 0'] + df['[ no-parking ] of company 1'] + df['[ no-parking ] of company 2']\n",
    "df ['total profit'] = df[ '[ profit ] of company 0'] + df[ '[ profit ] of company 1'] + df[ '[ profit ] of company 2'] \n",
    "df.rename(columns={ '[ no-parking ] of company 0': 'no parking company 0', '[ no-parking ] of company 1': 'no parking company 1', '[ no-parking ] of company 2': 'no parking company 2', '[ company-price ] of company 0': 'price company 0', '[ company-price ] of company 1': 'price company 1', '[ company-price ] of company 2': 'price company 2', '[ profit ] of company 0': 'profit company 0', '[ profit ] of company 1': 'profit company 1', '[ profit ] of company 2': 'profit company 2'}, inplace= True)"
   ]
  },
  {
   "cell_type": "code",
   "execution_count": 5,
   "metadata": {},
   "outputs": [],
   "source": [
    "df1 = df.drop(columns=['walking-radius', 'prob-of-violating-rules', 'new-car-treshold', 'number-of-cars-company0', 'number-of-cars-company1', 'number-of-cars-company2', 'number-of-companies', 'One-company', 'speed', '[ vote ] of company 0', '[ vote ] of company 1', '[ vote ] of company 2', 'prob-of-sanctioning', '[ company-rules-violated ] of company 0', '[ company-rules-violated ] of company 1', '[ company-rules-violated ] of company 2', '[ company-sanctioned ] of company 0', '[ company-sanctioned ] of company 1', '[ company-sanctioned ] of company 2', 'car-sharing-demand'])"
   ]
  },
  {
   "cell_type": "code",
   "execution_count": 6,
   "metadata": {
    "scrolled": false
   },
   "outputs": [
    {
     "data": {
      "text/plain": [
       "['run number',\n",
       " 'graduated-sanctions',\n",
       " 'collective-choice-arrangement',\n",
       " 'sanctioning-multiple',\n",
       " 'starting-bottom-price',\n",
       " 'tick',\n",
       " 'satisfied company 0',\n",
       " 'unsatisfied company 0',\n",
       " 'satisfied company 1',\n",
       " 'unsatisfied company 1',\n",
       " 'satisfied company 2',\n",
       " 'unsatisfied company 2',\n",
       " 'price company 0',\n",
       " 'price company 1',\n",
       " 'price company 2',\n",
       " 'profit company 0',\n",
       " 'profit company 1',\n",
       " 'profit company 2',\n",
       " 'cars company 0',\n",
       " 'cars company 1',\n",
       " 'cars company 2',\n",
       " 'count users',\n",
       " 'market-price',\n",
       " 'bottom-price',\n",
       " 'count cars with [ available = true ]',\n",
       " 'count patches with [ empty = true ]',\n",
       " 'no parking company 0',\n",
       " 'no parking company 1',\n",
       " 'no parking company 2',\n",
       " 'total satisfied users',\n",
       " 'total unsatisfied users',\n",
       " 'total no parking found',\n",
       " 'total profit']"
      ]
     },
     "execution_count": 6,
     "metadata": {},
     "output_type": "execute_result"
    }
   ],
   "source": [
    "list(df1.columns)"
   ]
  },
  {
   "cell_type": "code",
   "execution_count": 7,
   "metadata": {},
   "outputs": [],
   "source": [
    "df4 = df1.drop(columns=['run number', 'tick', 'satisfied company 0', 'satisfied company 1', 'satisfied company 2', 'unsatisfied company 0', 'unsatisfied company 1', 'unsatisfied company 2', 'price company 0', 'price company 1', 'price company 2', 'profit company 0', 'profit company 1', 'profit company 2', 'cars company 0', 'cars company 1', 'cars company 2'])"
   ]
  },
  {
   "cell_type": "code",
   "execution_count": 8,
   "metadata": {},
   "outputs": [
    {
     "data": {
      "text/html": [
       "<div>\n",
       "<style scoped>\n",
       "    .dataframe tbody tr th:only-of-type {\n",
       "        vertical-align: middle;\n",
       "    }\n",
       "\n",
       "    .dataframe tbody tr th {\n",
       "        vertical-align: top;\n",
       "    }\n",
       "\n",
       "    .dataframe thead th {\n",
       "        text-align: right;\n",
       "    }\n",
       "</style>\n",
       "<table border=\"1\" class=\"dataframe\">\n",
       "  <thead>\n",
       "    <tr style=\"text-align: right;\">\n",
       "      <th></th>\n",
       "      <th>graduated-sanctions</th>\n",
       "      <th>collective-choice-arrangement</th>\n",
       "      <th>sanctioning-multiple</th>\n",
       "      <th>starting-bottom-price</th>\n",
       "      <th>count users</th>\n",
       "      <th>market-price</th>\n",
       "      <th>bottom-price</th>\n",
       "      <th>count cars with [ available = true ]</th>\n",
       "      <th>count patches with [ empty = true ]</th>\n",
       "      <th>no parking company 0</th>\n",
       "      <th>no parking company 1</th>\n",
       "      <th>no parking company 2</th>\n",
       "      <th>total satisfied users</th>\n",
       "      <th>total unsatisfied users</th>\n",
       "      <th>total no parking found</th>\n",
       "      <th>total profit</th>\n",
       "    </tr>\n",
       "  </thead>\n",
       "  <tbody>\n",
       "    <tr>\n",
       "      <th>graduated-sanctions</th>\n",
       "      <td>1.000000</td>\n",
       "      <td>NaN</td>\n",
       "      <td>NaN</td>\n",
       "      <td>NaN</td>\n",
       "      <td>-0.006360</td>\n",
       "      <td>-0.374357</td>\n",
       "      <td>0.051005</td>\n",
       "      <td>-0.705062</td>\n",
       "      <td>0.685174</td>\n",
       "      <td>0.000391</td>\n",
       "      <td>-0.000728</td>\n",
       "      <td>0.000034</td>\n",
       "      <td>-0.000105</td>\n",
       "      <td>0.000342</td>\n",
       "      <td>-0.000137</td>\n",
       "      <td>-0.143635</td>\n",
       "    </tr>\n",
       "    <tr>\n",
       "      <th>collective-choice-arrangement</th>\n",
       "      <td>NaN</td>\n",
       "      <td>NaN</td>\n",
       "      <td>NaN</td>\n",
       "      <td>NaN</td>\n",
       "      <td>NaN</td>\n",
       "      <td>NaN</td>\n",
       "      <td>NaN</td>\n",
       "      <td>NaN</td>\n",
       "      <td>NaN</td>\n",
       "      <td>NaN</td>\n",
       "      <td>NaN</td>\n",
       "      <td>NaN</td>\n",
       "      <td>NaN</td>\n",
       "      <td>NaN</td>\n",
       "      <td>NaN</td>\n",
       "      <td>NaN</td>\n",
       "    </tr>\n",
       "    <tr>\n",
       "      <th>sanctioning-multiple</th>\n",
       "      <td>NaN</td>\n",
       "      <td>NaN</td>\n",
       "      <td>NaN</td>\n",
       "      <td>NaN</td>\n",
       "      <td>NaN</td>\n",
       "      <td>NaN</td>\n",
       "      <td>NaN</td>\n",
       "      <td>NaN</td>\n",
       "      <td>NaN</td>\n",
       "      <td>NaN</td>\n",
       "      <td>NaN</td>\n",
       "      <td>NaN</td>\n",
       "      <td>NaN</td>\n",
       "      <td>NaN</td>\n",
       "      <td>NaN</td>\n",
       "      <td>NaN</td>\n",
       "    </tr>\n",
       "    <tr>\n",
       "      <th>starting-bottom-price</th>\n",
       "      <td>NaN</td>\n",
       "      <td>NaN</td>\n",
       "      <td>NaN</td>\n",
       "      <td>NaN</td>\n",
       "      <td>NaN</td>\n",
       "      <td>NaN</td>\n",
       "      <td>NaN</td>\n",
       "      <td>NaN</td>\n",
       "      <td>NaN</td>\n",
       "      <td>NaN</td>\n",
       "      <td>NaN</td>\n",
       "      <td>NaN</td>\n",
       "      <td>NaN</td>\n",
       "      <td>NaN</td>\n",
       "      <td>NaN</td>\n",
       "      <td>NaN</td>\n",
       "    </tr>\n",
       "    <tr>\n",
       "      <th>count users</th>\n",
       "      <td>-0.006360</td>\n",
       "      <td>NaN</td>\n",
       "      <td>NaN</td>\n",
       "      <td>NaN</td>\n",
       "      <td>1.000000</td>\n",
       "      <td>0.013175</td>\n",
       "      <td>0.068096</td>\n",
       "      <td>-0.499371</td>\n",
       "      <td>0.512502</td>\n",
       "      <td>0.049553</td>\n",
       "      <td>0.049385</td>\n",
       "      <td>0.049363</td>\n",
       "      <td>0.049422</td>\n",
       "      <td>0.049140</td>\n",
       "      <td>0.049422</td>\n",
       "      <td>0.052769</td>\n",
       "    </tr>\n",
       "    <tr>\n",
       "      <th>market-price</th>\n",
       "      <td>-0.374357</td>\n",
       "      <td>NaN</td>\n",
       "      <td>NaN</td>\n",
       "      <td>NaN</td>\n",
       "      <td>0.013175</td>\n",
       "      <td>1.000000</td>\n",
       "      <td>0.626805</td>\n",
       "      <td>0.141950</td>\n",
       "      <td>-0.129716</td>\n",
       "      <td>0.609538</td>\n",
       "      <td>0.608523</td>\n",
       "      <td>0.609375</td>\n",
       "      <td>0.609315</td>\n",
       "      <td>0.609337</td>\n",
       "      <td>0.609333</td>\n",
       "      <td>0.737747</td>\n",
       "    </tr>\n",
       "    <tr>\n",
       "      <th>bottom-price</th>\n",
       "      <td>0.051005</td>\n",
       "      <td>NaN</td>\n",
       "      <td>NaN</td>\n",
       "      <td>NaN</td>\n",
       "      <td>0.068096</td>\n",
       "      <td>0.626805</td>\n",
       "      <td>1.000000</td>\n",
       "      <td>-0.383994</td>\n",
       "      <td>0.394620</td>\n",
       "      <td>0.962100</td>\n",
       "      <td>0.961894</td>\n",
       "      <td>0.961964</td>\n",
       "      <td>0.962250</td>\n",
       "      <td>0.962389</td>\n",
       "      <td>0.962248</td>\n",
       "      <td>0.954250</td>\n",
       "    </tr>\n",
       "    <tr>\n",
       "      <th>count cars with [ available = true ]</th>\n",
       "      <td>-0.705062</td>\n",
       "      <td>NaN</td>\n",
       "      <td>NaN</td>\n",
       "      <td>NaN</td>\n",
       "      <td>-0.499371</td>\n",
       "      <td>0.141950</td>\n",
       "      <td>-0.383994</td>\n",
       "      <td>1.000000</td>\n",
       "      <td>-0.999137</td>\n",
       "      <td>-0.346435</td>\n",
       "      <td>-0.345511</td>\n",
       "      <td>-0.345792</td>\n",
       "      <td>-0.345987</td>\n",
       "      <td>-0.346253</td>\n",
       "      <td>-0.345954</td>\n",
       "      <td>-0.198516</td>\n",
       "    </tr>\n",
       "    <tr>\n",
       "      <th>count patches with [ empty = true ]</th>\n",
       "      <td>0.685174</td>\n",
       "      <td>NaN</td>\n",
       "      <td>NaN</td>\n",
       "      <td>NaN</td>\n",
       "      <td>0.512502</td>\n",
       "      <td>-0.129716</td>\n",
       "      <td>0.394620</td>\n",
       "      <td>-0.999137</td>\n",
       "      <td>1.000000</td>\n",
       "      <td>0.357377</td>\n",
       "      <td>0.356485</td>\n",
       "      <td>0.356730</td>\n",
       "      <td>0.356940</td>\n",
       "      <td>0.357193</td>\n",
       "      <td>0.356907</td>\n",
       "      <td>0.211234</td>\n",
       "    </tr>\n",
       "    <tr>\n",
       "      <th>no parking company 0</th>\n",
       "      <td>0.000391</td>\n",
       "      <td>NaN</td>\n",
       "      <td>NaN</td>\n",
       "      <td>NaN</td>\n",
       "      <td>0.049553</td>\n",
       "      <td>0.609538</td>\n",
       "      <td>0.962100</td>\n",
       "      <td>-0.346435</td>\n",
       "      <td>0.357377</td>\n",
       "      <td>1.000000</td>\n",
       "      <td>0.999086</td>\n",
       "      <td>0.999098</td>\n",
       "      <td>0.999696</td>\n",
       "      <td>0.999666</td>\n",
       "      <td>0.999696</td>\n",
       "      <td>0.964048</td>\n",
       "    </tr>\n",
       "    <tr>\n",
       "      <th>no parking company 1</th>\n",
       "      <td>-0.000728</td>\n",
       "      <td>NaN</td>\n",
       "      <td>NaN</td>\n",
       "      <td>NaN</td>\n",
       "      <td>0.049385</td>\n",
       "      <td>0.608523</td>\n",
       "      <td>0.961894</td>\n",
       "      <td>-0.345511</td>\n",
       "      <td>0.356485</td>\n",
       "      <td>0.999086</td>\n",
       "      <td>1.000000</td>\n",
       "      <td>0.999094</td>\n",
       "      <td>0.999694</td>\n",
       "      <td>0.999667</td>\n",
       "      <td>0.999694</td>\n",
       "      <td>0.964084</td>\n",
       "    </tr>\n",
       "    <tr>\n",
       "      <th>no parking company 2</th>\n",
       "      <td>0.000034</td>\n",
       "      <td>NaN</td>\n",
       "      <td>NaN</td>\n",
       "      <td>NaN</td>\n",
       "      <td>0.049363</td>\n",
       "      <td>0.609375</td>\n",
       "      <td>0.961964</td>\n",
       "      <td>-0.345792</td>\n",
       "      <td>0.356730</td>\n",
       "      <td>0.999098</td>\n",
       "      <td>0.999094</td>\n",
       "      <td>1.000000</td>\n",
       "      <td>0.999699</td>\n",
       "      <td>0.999677</td>\n",
       "      <td>0.999699</td>\n",
       "      <td>0.964237</td>\n",
       "    </tr>\n",
       "    <tr>\n",
       "      <th>total satisfied users</th>\n",
       "      <td>-0.000105</td>\n",
       "      <td>NaN</td>\n",
       "      <td>NaN</td>\n",
       "      <td>NaN</td>\n",
       "      <td>0.049422</td>\n",
       "      <td>0.609315</td>\n",
       "      <td>0.962250</td>\n",
       "      <td>-0.345987</td>\n",
       "      <td>0.356940</td>\n",
       "      <td>0.999696</td>\n",
       "      <td>0.999694</td>\n",
       "      <td>0.999699</td>\n",
       "      <td>1.000000</td>\n",
       "      <td>0.999973</td>\n",
       "      <td>1.000000</td>\n",
       "      <td>0.964388</td>\n",
       "    </tr>\n",
       "    <tr>\n",
       "      <th>total unsatisfied users</th>\n",
       "      <td>0.000342</td>\n",
       "      <td>NaN</td>\n",
       "      <td>NaN</td>\n",
       "      <td>NaN</td>\n",
       "      <td>0.049140</td>\n",
       "      <td>0.609337</td>\n",
       "      <td>0.962389</td>\n",
       "      <td>-0.346253</td>\n",
       "      <td>0.357193</td>\n",
       "      <td>0.999666</td>\n",
       "      <td>0.999667</td>\n",
       "      <td>0.999677</td>\n",
       "      <td>0.999973</td>\n",
       "      <td>1.000000</td>\n",
       "      <td>0.999973</td>\n",
       "      <td>0.964576</td>\n",
       "    </tr>\n",
       "    <tr>\n",
       "      <th>total no parking found</th>\n",
       "      <td>-0.000137</td>\n",
       "      <td>NaN</td>\n",
       "      <td>NaN</td>\n",
       "      <td>NaN</td>\n",
       "      <td>0.049422</td>\n",
       "      <td>0.609333</td>\n",
       "      <td>0.962248</td>\n",
       "      <td>-0.345954</td>\n",
       "      <td>0.356907</td>\n",
       "      <td>0.999696</td>\n",
       "      <td>0.999694</td>\n",
       "      <td>0.999699</td>\n",
       "      <td>1.000000</td>\n",
       "      <td>0.999973</td>\n",
       "      <td>1.000000</td>\n",
       "      <td>0.964396</td>\n",
       "    </tr>\n",
       "    <tr>\n",
       "      <th>total profit</th>\n",
       "      <td>-0.143635</td>\n",
       "      <td>NaN</td>\n",
       "      <td>NaN</td>\n",
       "      <td>NaN</td>\n",
       "      <td>0.052769</td>\n",
       "      <td>0.737747</td>\n",
       "      <td>0.954250</td>\n",
       "      <td>-0.198516</td>\n",
       "      <td>0.211234</td>\n",
       "      <td>0.964048</td>\n",
       "      <td>0.964084</td>\n",
       "      <td>0.964237</td>\n",
       "      <td>0.964388</td>\n",
       "      <td>0.964576</td>\n",
       "      <td>0.964396</td>\n",
       "      <td>1.000000</td>\n",
       "    </tr>\n",
       "  </tbody>\n",
       "</table>\n",
       "</div>"
      ],
      "text/plain": [
       "                                      graduated-sanctions  \\\n",
       "graduated-sanctions                              1.000000   \n",
       "collective-choice-arrangement                         NaN   \n",
       "sanctioning-multiple                                  NaN   \n",
       "starting-bottom-price                                 NaN   \n",
       "count users                                     -0.006360   \n",
       "market-price                                    -0.374357   \n",
       "bottom-price                                     0.051005   \n",
       "count cars with [ available = true ]            -0.705062   \n",
       "count patches with [ empty = true ]              0.685174   \n",
       "no parking company 0                             0.000391   \n",
       "no parking company 1                            -0.000728   \n",
       "no parking company 2                             0.000034   \n",
       "total satisfied users                           -0.000105   \n",
       "total unsatisfied users                          0.000342   \n",
       "total no parking found                          -0.000137   \n",
       "total profit                                    -0.143635   \n",
       "\n",
       "                                      collective-choice-arrangement  \\\n",
       "graduated-sanctions                                             NaN   \n",
       "collective-choice-arrangement                                   NaN   \n",
       "sanctioning-multiple                                            NaN   \n",
       "starting-bottom-price                                           NaN   \n",
       "count users                                                     NaN   \n",
       "market-price                                                    NaN   \n",
       "bottom-price                                                    NaN   \n",
       "count cars with [ available = true ]                            NaN   \n",
       "count patches with [ empty = true ]                             NaN   \n",
       "no parking company 0                                            NaN   \n",
       "no parking company 1                                            NaN   \n",
       "no parking company 2                                            NaN   \n",
       "total satisfied users                                           NaN   \n",
       "total unsatisfied users                                         NaN   \n",
       "total no parking found                                          NaN   \n",
       "total profit                                                    NaN   \n",
       "\n",
       "                                      sanctioning-multiple  \\\n",
       "graduated-sanctions                                    NaN   \n",
       "collective-choice-arrangement                          NaN   \n",
       "sanctioning-multiple                                   NaN   \n",
       "starting-bottom-price                                  NaN   \n",
       "count users                                            NaN   \n",
       "market-price                                           NaN   \n",
       "bottom-price                                           NaN   \n",
       "count cars with [ available = true ]                   NaN   \n",
       "count patches with [ empty = true ]                    NaN   \n",
       "no parking company 0                                   NaN   \n",
       "no parking company 1                                   NaN   \n",
       "no parking company 2                                   NaN   \n",
       "total satisfied users                                  NaN   \n",
       "total unsatisfied users                                NaN   \n",
       "total no parking found                                 NaN   \n",
       "total profit                                           NaN   \n",
       "\n",
       "                                      starting-bottom-price  count users  \\\n",
       "graduated-sanctions                                     NaN    -0.006360   \n",
       "collective-choice-arrangement                           NaN          NaN   \n",
       "sanctioning-multiple                                    NaN          NaN   \n",
       "starting-bottom-price                                   NaN          NaN   \n",
       "count users                                             NaN     1.000000   \n",
       "market-price                                            NaN     0.013175   \n",
       "bottom-price                                            NaN     0.068096   \n",
       "count cars with [ available = true ]                    NaN    -0.499371   \n",
       "count patches with [ empty = true ]                     NaN     0.512502   \n",
       "no parking company 0                                    NaN     0.049553   \n",
       "no parking company 1                                    NaN     0.049385   \n",
       "no parking company 2                                    NaN     0.049363   \n",
       "total satisfied users                                   NaN     0.049422   \n",
       "total unsatisfied users                                 NaN     0.049140   \n",
       "total no parking found                                  NaN     0.049422   \n",
       "total profit                                            NaN     0.052769   \n",
       "\n",
       "                                      market-price  bottom-price  \\\n",
       "graduated-sanctions                      -0.374357      0.051005   \n",
       "collective-choice-arrangement                  NaN           NaN   \n",
       "sanctioning-multiple                           NaN           NaN   \n",
       "starting-bottom-price                          NaN           NaN   \n",
       "count users                               0.013175      0.068096   \n",
       "market-price                              1.000000      0.626805   \n",
       "bottom-price                              0.626805      1.000000   \n",
       "count cars with [ available = true ]      0.141950     -0.383994   \n",
       "count patches with [ empty = true ]      -0.129716      0.394620   \n",
       "no parking company 0                      0.609538      0.962100   \n",
       "no parking company 1                      0.608523      0.961894   \n",
       "no parking company 2                      0.609375      0.961964   \n",
       "total satisfied users                     0.609315      0.962250   \n",
       "total unsatisfied users                   0.609337      0.962389   \n",
       "total no parking found                    0.609333      0.962248   \n",
       "total profit                              0.737747      0.954250   \n",
       "\n",
       "                                      count cars with [ available = true ]  \\\n",
       "graduated-sanctions                                              -0.705062   \n",
       "collective-choice-arrangement                                          NaN   \n",
       "sanctioning-multiple                                                   NaN   \n",
       "starting-bottom-price                                                  NaN   \n",
       "count users                                                      -0.499371   \n",
       "market-price                                                      0.141950   \n",
       "bottom-price                                                     -0.383994   \n",
       "count cars with [ available = true ]                              1.000000   \n",
       "count patches with [ empty = true ]                              -0.999137   \n",
       "no parking company 0                                             -0.346435   \n",
       "no parking company 1                                             -0.345511   \n",
       "no parking company 2                                             -0.345792   \n",
       "total satisfied users                                            -0.345987   \n",
       "total unsatisfied users                                          -0.346253   \n",
       "total no parking found                                           -0.345954   \n",
       "total profit                                                     -0.198516   \n",
       "\n",
       "                                      count patches with [ empty = true ]  \\\n",
       "graduated-sanctions                                              0.685174   \n",
       "collective-choice-arrangement                                         NaN   \n",
       "sanctioning-multiple                                                  NaN   \n",
       "starting-bottom-price                                                 NaN   \n",
       "count users                                                      0.512502   \n",
       "market-price                                                    -0.129716   \n",
       "bottom-price                                                     0.394620   \n",
       "count cars with [ available = true ]                            -0.999137   \n",
       "count patches with [ empty = true ]                              1.000000   \n",
       "no parking company 0                                             0.357377   \n",
       "no parking company 1                                             0.356485   \n",
       "no parking company 2                                             0.356730   \n",
       "total satisfied users                                            0.356940   \n",
       "total unsatisfied users                                          0.357193   \n",
       "total no parking found                                           0.356907   \n",
       "total profit                                                     0.211234   \n",
       "\n",
       "                                      no parking company 0  \\\n",
       "graduated-sanctions                               0.000391   \n",
       "collective-choice-arrangement                          NaN   \n",
       "sanctioning-multiple                                   NaN   \n",
       "starting-bottom-price                                  NaN   \n",
       "count users                                       0.049553   \n",
       "market-price                                      0.609538   \n",
       "bottom-price                                      0.962100   \n",
       "count cars with [ available = true ]             -0.346435   \n",
       "count patches with [ empty = true ]               0.357377   \n",
       "no parking company 0                              1.000000   \n",
       "no parking company 1                              0.999086   \n",
       "no parking company 2                              0.999098   \n",
       "total satisfied users                             0.999696   \n",
       "total unsatisfied users                           0.999666   \n",
       "total no parking found                            0.999696   \n",
       "total profit                                      0.964048   \n",
       "\n",
       "                                      no parking company 1  \\\n",
       "graduated-sanctions                              -0.000728   \n",
       "collective-choice-arrangement                          NaN   \n",
       "sanctioning-multiple                                   NaN   \n",
       "starting-bottom-price                                  NaN   \n",
       "count users                                       0.049385   \n",
       "market-price                                      0.608523   \n",
       "bottom-price                                      0.961894   \n",
       "count cars with [ available = true ]             -0.345511   \n",
       "count patches with [ empty = true ]               0.356485   \n",
       "no parking company 0                              0.999086   \n",
       "no parking company 1                              1.000000   \n",
       "no parking company 2                              0.999094   \n",
       "total satisfied users                             0.999694   \n",
       "total unsatisfied users                           0.999667   \n",
       "total no parking found                            0.999694   \n",
       "total profit                                      0.964084   \n",
       "\n",
       "                                      no parking company 2  \\\n",
       "graduated-sanctions                               0.000034   \n",
       "collective-choice-arrangement                          NaN   \n",
       "sanctioning-multiple                                   NaN   \n",
       "starting-bottom-price                                  NaN   \n",
       "count users                                       0.049363   \n",
       "market-price                                      0.609375   \n",
       "bottom-price                                      0.961964   \n",
       "count cars with [ available = true ]             -0.345792   \n",
       "count patches with [ empty = true ]               0.356730   \n",
       "no parking company 0                              0.999098   \n",
       "no parking company 1                              0.999094   \n",
       "no parking company 2                              1.000000   \n",
       "total satisfied users                             0.999699   \n",
       "total unsatisfied users                           0.999677   \n",
       "total no parking found                            0.999699   \n",
       "total profit                                      0.964237   \n",
       "\n",
       "                                      total satisfied users  \\\n",
       "graduated-sanctions                               -0.000105   \n",
       "collective-choice-arrangement                           NaN   \n",
       "sanctioning-multiple                                    NaN   \n",
       "starting-bottom-price                                   NaN   \n",
       "count users                                        0.049422   \n",
       "market-price                                       0.609315   \n",
       "bottom-price                                       0.962250   \n",
       "count cars with [ available = true ]              -0.345987   \n",
       "count patches with [ empty = true ]                0.356940   \n",
       "no parking company 0                               0.999696   \n",
       "no parking company 1                               0.999694   \n",
       "no parking company 2                               0.999699   \n",
       "total satisfied users                              1.000000   \n",
       "total unsatisfied users                            0.999973   \n",
       "total no parking found                             1.000000   \n",
       "total profit                                       0.964388   \n",
       "\n",
       "                                      total unsatisfied users  \\\n",
       "graduated-sanctions                                  0.000342   \n",
       "collective-choice-arrangement                             NaN   \n",
       "sanctioning-multiple                                      NaN   \n",
       "starting-bottom-price                                     NaN   \n",
       "count users                                          0.049140   \n",
       "market-price                                         0.609337   \n",
       "bottom-price                                         0.962389   \n",
       "count cars with [ available = true ]                -0.346253   \n",
       "count patches with [ empty = true ]                  0.357193   \n",
       "no parking company 0                                 0.999666   \n",
       "no parking company 1                                 0.999667   \n",
       "no parking company 2                                 0.999677   \n",
       "total satisfied users                                0.999973   \n",
       "total unsatisfied users                              1.000000   \n",
       "total no parking found                               0.999973   \n",
       "total profit                                         0.964576   \n",
       "\n",
       "                                      total no parking found  total profit  \n",
       "graduated-sanctions                                -0.000137     -0.143635  \n",
       "collective-choice-arrangement                            NaN           NaN  \n",
       "sanctioning-multiple                                     NaN           NaN  \n",
       "starting-bottom-price                                    NaN           NaN  \n",
       "count users                                         0.049422      0.052769  \n",
       "market-price                                        0.609333      0.737747  \n",
       "bottom-price                                        0.962248      0.954250  \n",
       "count cars with [ available = true ]               -0.345954     -0.198516  \n",
       "count patches with [ empty = true ]                 0.356907      0.211234  \n",
       "no parking company 0                                0.999696      0.964048  \n",
       "no parking company 1                                0.999694      0.964084  \n",
       "no parking company 2                                0.999699      0.964237  \n",
       "total satisfied users                               1.000000      0.964388  \n",
       "total unsatisfied users                             0.999973      0.964576  \n",
       "total no parking found                              1.000000      0.964396  \n",
       "total profit                                        0.964396      1.000000  "
      ]
     },
     "execution_count": 8,
     "metadata": {},
     "output_type": "execute_result"
    }
   ],
   "source": [
    "spearman1 = df4.corr(method='spearman')\n",
    "spearman1"
   ]
  },
  {
   "cell_type": "code",
   "execution_count": null,
   "metadata": {},
   "outputs": [],
   "source": [
    "df1.head(5)"
   ]
  },
  {
   "cell_type": "code",
   "execution_count": null,
   "metadata": {},
   "outputs": [],
   "source": [
    "df1.plot.scatter(x='tick',y='market-price',figsize=(15,8))"
   ]
  },
  {
   "cell_type": "code",
   "execution_count": null,
   "metadata": {},
   "outputs": [],
   "source": [
    "df1.plot.scatter(x='tick',y='total-profit',figsize=(15,8))"
   ]
  },
  {
   "cell_type": "code",
   "execution_count": null,
   "metadata": {},
   "outputs": [],
   "source": [
    "df1.plot.scatter(x='tick',y='market-price',c='run number',colormap='plasma',figsize=(20,10))"
   ]
  },
  {
   "cell_type": "code",
   "execution_count": null,
   "metadata": {},
   "outputs": [],
   "source": [
    "df1.plot.scatter(x='tick',y='bottom-price',c='run number',colormap='plasma',figsize=(20,10))"
   ]
  },
  {
   "cell_type": "code",
   "execution_count": null,
   "metadata": {},
   "outputs": [],
   "source": [
    "df1.plot.scatter(x='tick',y='count patches with [ empty = true ]',c='run number',colormap='plasma',figsize=(20,10))"
   ]
  },
  {
   "cell_type": "code",
   "execution_count": null,
   "metadata": {},
   "outputs": [],
   "source": [
    "df1.loc[df1['tick'] == 100000].boxplot(column=['total satisfied users'], by=['graduated-sanctions'])\n",
    " \n",
    "plt.show()"
   ]
  },
  {
   "cell_type": "code",
   "execution_count": null,
   "metadata": {},
   "outputs": [],
   "source": [
    "df1.loc[df1['tick'] == 100000].boxplot(column=['total unsatisfied users'], by=['graduated-sanctions'])"
   ]
  },
  {
   "cell_type": "code",
   "execution_count": null,
   "metadata": {},
   "outputs": [],
   "source": [
    "df1.loc[df1['tick'] == 100000].boxplot(column=['total no parking found'], by=['graduated-sanctions'])"
   ]
  },
  {
   "cell_type": "code",
   "execution_count": null,
   "metadata": {},
   "outputs": [],
   "source": [
    "df1.loc[df1['tick'] == 100000].boxplot(column=['total profit'], by=['graduated-sanctions'])"
   ]
  },
  {
   "cell_type": "code",
   "execution_count": null,
   "metadata": {},
   "outputs": [],
   "source": [
    "df1.loc[df1['tick'] == 100000].boxplot(column=['profit company 0'], by=['graduated-sanctions'])"
   ]
  },
  {
   "cell_type": "code",
   "execution_count": null,
   "metadata": {},
   "outputs": [],
   "source": [
    "df1.loc[df1['tick'] == 100000].boxplot(column=['profit company 1'], by=['graduated-sanctions'])"
   ]
  },
  {
   "cell_type": "code",
   "execution_count": null,
   "metadata": {},
   "outputs": [],
   "source": [
    "df1.loc[df1['tick'] == 100000].boxplot(column=['profit company 2'], by=['graduated-sanctions'])"
   ]
  },
  {
   "cell_type": "code",
   "execution_count": null,
   "metadata": {},
   "outputs": [],
   "source": [
    "df1.loc[df1['tick'] == 100000].boxplot(column=['satisfied company 0'], by=['graduated-sanctions'])"
   ]
  },
  {
   "cell_type": "code",
   "execution_count": null,
   "metadata": {},
   "outputs": [],
   "source": [
    "df1.loc[df1['tick'] == 100000].boxplot(column=['satisfied company 1'], by=['graduated-sanctions'])"
   ]
  },
  {
   "cell_type": "code",
   "execution_count": null,
   "metadata": {},
   "outputs": [],
   "source": [
    "df1.loc[df1['tick'] == 100000].boxplot(column=['satisfied company 2'], by=['graduated-sanctions'])"
   ]
  },
  {
   "cell_type": "code",
   "execution_count": null,
   "metadata": {},
   "outputs": [],
   "source": [
    "df1.loc[df1['tick'] == 100000].boxplot(column=['unsatisfied company 0'], by=['graduated-sanctions'])"
   ]
  },
  {
   "cell_type": "code",
   "execution_count": null,
   "metadata": {},
   "outputs": [],
   "source": [
    "df1.loc[df1['tick'] == 100000].boxplot(column=['unsatisfied company 1'], by=['graduated-sanctions'])"
   ]
  },
  {
   "cell_type": "code",
   "execution_count": null,
   "metadata": {},
   "outputs": [],
   "source": [
    "df1.loc[df1['tick'] == 100000].boxplot(column=['unsatisfied company 2'], by=['graduated-sanctions'])"
   ]
  },
  {
   "cell_type": "code",
   "execution_count": null,
   "metadata": {},
   "outputs": [],
   "source": [
    "df1.loc[df1['tick'] == 100000].boxplot(column=['no parking company 0'], by=['graduated-sanctions'])"
   ]
  },
  {
   "cell_type": "code",
   "execution_count": null,
   "metadata": {},
   "outputs": [],
   "source": [
    "df1.loc[df1['tick'] == 100000].boxplot(column=['no parking company 1'], by=['graduated-sanctions'])"
   ]
  },
  {
   "cell_type": "code",
   "execution_count": null,
   "metadata": {},
   "outputs": [],
   "source": [
    "df1.loc[df1['tick'] == 100000].boxplot(column=['no parking company 2'], by=['graduated-sanctions'])"
   ]
  },
  {
   "cell_type": "code",
   "execution_count": 8,
   "metadata": {},
   "outputs": [
    {
     "data": {
      "text/plain": [
       "<matplotlib.axes._subplots.AxesSubplot at 0x7fa4a27fa250>"
      ]
     },
     "execution_count": 8,
     "metadata": {},
     "output_type": "execute_result"
    },
    {
     "data": {
      "image/png": "[encoded data removed]",
      "text/plain": [
       "<Figure size 1080x576 with 1 Axes>"
      ]
     },
     "metadata": {},
     "output_type": "display_data"
    }
   ],
   "source": [
    "df2 = df1.loc[df1['graduated-sanctions'] == True ]\n",
    "df2.head(5)\n",
    "df2.plot.scatter(x='tick',y='total satisfied users',figsize=(15,8))"
   ]
  },
  {
   "cell_type": "code",
   "execution_count": 9,
   "metadata": {},
   "outputs": [
    {
     "data": {
      "text/plain": [
       "<matplotlib.axes._subplots.AxesSubplot at 0x7fa462cb5390>"
      ]
     },
     "execution_count": 9,
     "metadata": {},
     "output_type": "execute_result"
    },
    {
     "data": {
      "image/png": "[encoded data removed]",
      "text/plain": [
       "<Figure size 1080x576 with 1 Axes>"
      ]
     },
     "metadata": {},
     "output_type": "display_data"
    }
   ],
   "source": [
    "df3 = df1.loc[df1['graduated-sanctions'] == False ]\n",
    "df3.head(5)\n",
    "df3.plot.scatter(x='tick',y='total satisfied users',figsize=(15,8))"
   ]
  },
  {
   "cell_type": "code",
   "execution_count": 15,
   "metadata": {},
   "outputs": [
    {
     "data": {
      "text/plain": [
       "Text(0, 0.5, 'Combined company profits')"
      ]
     },
     "execution_count": 15,
     "metadata": {},
     "output_type": "execute_result"
    },
    {
     "data": {
      "image/png": "[encoded data removed]",
      "text/plain": [
       "<Figure size 1080x576 with 1 Axes>"
      ]
     },
     "metadata": {},
     "output_type": "display_data"
    }
   ],
   "source": [
    "plot = df2.plot.scatter(x='tick',y='total profit',figsize=(15,8))\n",
    "plt.ylim(0, 47500000 )\n",
    "plot.get_figure().gca().set_title(\"Combined company profits for a system where graduated sanctions are present\")\n",
    "plot.get_figure().suptitle('')\n",
    "plot.get_figure().gca().set_xlabel(\"Ticks\")\n",
    "plot.get_figure().gca().set_ylabel(\"Combined company profits\")"
   ]
  },
  {
   "cell_type": "code",
   "execution_count": null,
   "metadata": {},
   "outputs": [],
   "source": [
    "df3.agg([np.mean, np.std])"
   ]
  },
  {
   "cell_type": "code",
   "execution_count": 16,
   "metadata": {},
   "outputs": [
    {
     "data": {
      "text/plain": [
       "Text(0, 0.5, 'Combined company profits')"
      ]
     },
     "execution_count": 16,
     "metadata": {},
     "output_type": "execute_result"
    },
    {
     "data": {
      "image/png": "[encoded data removed]",
      "text/plain": [
       "<Figure size 1080x576 with 1 Axes>"
      ]
     },
     "metadata": {},
     "output_type": "display_data"
    }
   ],
   "source": [
    "plot = df3.plot.scatter(x='tick',y='total profit',figsize=(15,8))\n",
    "plt.ylim(0, 47500000 )\n",
    "plot.get_figure().gca().set_title(\"Combined company profits for a system where graduated sanctions are not present\")\n",
    "plot.get_figure().suptitle('')\n",
    "plot.get_figure().gca().set_xlabel(\"Ticks\")\n",
    "plot.get_figure().gca().set_ylabel(\"Combined company profits\")"
   ]
  },
  {
   "cell_type": "code",
   "execution_count": null,
   "metadata": {},
   "outputs": [],
   "source": [
    "plt.errorbar(x = 'ticks', y = 'market-price')"
   ]
  },
  {
   "cell_type": "code",
   "execution_count": null,
   "metadata": {},
   "outputs": [],
   "source": [
    "df3_mean = df3['market-price'].mean()\n",
    "print(df3_mean)\n",
    "df3_std = df3['market-price'].std()\n",
    "print(df3_std)\n",
    "df3['market-price'].max()"
   ]
  },
  {
   "cell_type": "code",
   "execution_count": null,
   "metadata": {},
   "outputs": [],
   "source": [
    "df2['market-price'].max()"
   ]
  },
  {
   "cell_type": "code",
   "execution_count": 11,
   "metadata": {},
   "outputs": [
    {
     "name": "stdout",
     "output_type": "stream",
     "text": [
      "12424.598688813112\n",
      "7210.217017435856\n"
     ]
    }
   ],
   "source": [
    "df3_mean2 = df3['total satisfied users'].mean()\n",
    "print(df3_mean2)\n",
    "df3_std2 = df3['total satisfied users'].std()\n",
    "print(df3_std2)"
   ]
  },
  {
   "cell_type": "code",
   "execution_count": null,
   "metadata": {},
   "outputs": [],
   "source": [
    "df3_mean1 = df3['bottom-price'].mean()\n",
    "print(df3_mean1)\n",
    "df3_std1 = df3['bottom-price'].std()\n",
    "print(df3_std1)"
   ]
  },
  {
   "cell_type": "code",
   "execution_count": 13,
   "metadata": {},
   "outputs": [
    {
     "name": "stdout",
     "output_type": "stream",
     "text": [
      "12423.096445835541\n",
      "7209.957728957202\n"
     ]
    }
   ],
   "source": [
    "df2_mean = df2['total satisfied users'].mean()\n",
    "print(df2_mean)\n",
    "df2_std = df2['total satisfied users'].std()\n",
    "print(df2_std)"
   ]
  },
  {
   "cell_type": "code",
   "execution_count": null,
   "metadata": {},
   "outputs": [],
   "source": [
    "df2_mean1 = df2['bottom-price'].mean()\n",
    "print(df2_mean1)\n",
    "df2_std1 = df2['bottom-price'].std()\n",
    "print(df2_std1)"
   ]
  },
  {
   "cell_type": "code",
   "execution_count": null,
   "metadata": {},
   "outputs": [],
   "source": [
    "df2_mean2 = df2['count patches with [ empty = true ]'].mean()\n",
    "print(df2_mean2)\n",
    "df2_std2 = df2['count patches with [ empty = true ]'].std()\n",
    "print(df2_std2)"
   ]
  },
  {
   "cell_type": "code",
   "execution_count": null,
   "metadata": {},
   "outputs": [],
   "source": [
    "pearsoncorr = df1.corr(method='spearman')\n",
    "pearsoncorr"
   ]
  },
  {
   "cell_type": "code",
   "execution_count": null,
   "metadata": {},
   "outputs": [],
   "source": []
  }
 ],
 "metadata": {
  "kernelspec": {
   "display_name": "Python 3",
   "language": "python",
   "name": "python3"
  },
  "language_info": {
   "codemirror_mode": {
    "name": "ipython",
    "version": 3
   },
   "file_extension": ".py",
   "mimetype": "text/x-python",
   "name": "python",
   "nbconvert_exporter": "python",
   "pygments_lexer": "ipython3",
   "version": "3.7.6"
  }
 },
 "nbformat": 4,
 "nbformat_minor": 4
}
